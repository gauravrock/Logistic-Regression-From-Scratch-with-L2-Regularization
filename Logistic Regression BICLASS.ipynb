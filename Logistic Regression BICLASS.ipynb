{
 "cells": [
  {
   "cell_type": "markdown",
   "metadata": {},
   "source": [
    "<h1>Axis India Machine Learning Research Lab</h1>"
   ]
  },
  {
   "cell_type": "markdown",
   "metadata": {},
   "source": [
    "<h2>Supervised Machine Learning</h2>"
   ]
  },
  {
   "cell_type": "markdown",
   "metadata": {},
   "source": [
    "<h2>Logistic Regression From Scratch for Biclass Data-set with L2 Regularization</h2>"
   ]
  },
  {
   "cell_type": "markdown",
   "metadata": {},
   "source": [
    "<p> <b>It is Dicriminative Learning Algorithm.</b></p>"
   ]
  },
  {
   "cell_type": "markdown",
   "metadata": {},
   "source": [
    "<p><center>Discriminative Algorithm are those Algorithm for which Inorder to perform Classification i.e to calculate P(class =+ve|X),<br/>we don't need to calculate <b>P(X|class=+ve/-ve)</center></b></p>\n",
    "\n",
    "<b>Discriminent Function : </b>"
   ]
  },
  {
   "cell_type": "markdown",
   "metadata": {},
   "source": [
    "$$\n",
    "\\frac{P(class=+ve|X)}{P(class=-ve|X)}=Log_{e}(\\frac{P(class=+ve|X)}{P(class=-ve|X)})\n",
    "$$\n",
    "\n",
    "$$\n",
    "\\sum_{+ve}=\\sum_{-ve}=\\sum_{pooled}\n",
    "$$\n",
    "\n",
    "$$\n",
    "\\frac{P(class=+ve|X)}{P(class=-ve|X)}=mx+c\n",
    "$$\n",
    "\n",
    "\n",
    "\n",
    "$$\n",
    "Log_{e}(\\frac{P(class=+ve|X)}{P(class=-ve|X)})=\n",
    "\\theta_{1} x+\\theta_{0}\n",
    "$$\n",
    "For Bi-Class\n",
    "\n",
    "$$\n",
    "Log_{e}(\\frac{P(class=+ve|X)}{P(class=-ve|X)})=\n",
    "\\theta_{0} +x_{1}\\theta_{1}+x_{2}\\theta_{2}+x_{3}\\theta_{3}....\n",
    "$$\n",
    "\n",
    "$$\n",
    "    Log_{e}(\\frac{P(class=+ve|X)}{P(class=-ve|X)})=\\theta_{0}+\\theta^{T}X    \\hspace{3cm}       .....eq(i)\n",
    "$$\n",
    "\n",
    "where \n",
    "$$\n",
    "\\theta^{T}=\\left[\\theta_{1} \\hspace{2mm}  \\theta_{2}\\hspace{2mm} \\theta_{3} \\hspace{2mm} \\theta_{4} \\hspace{2mm} \\theta_{5}\\right......] \n",
    "$$\n",
    "\n",
    "$$\n",
    "X=\\left[ \\begin{array}{l}{x_{1}} \\\\ {x_{2}} \\\\ {x_{3}} \\\\ {x_{4}} \\\\ {x_{5} \\\\ .\\\\.\\\\.\\\\.}\\end{array}\\right] \\hspace{1.2cm}....Feature's \\ Vector\n",
    "$$\n",
    "\n",
    "Take Log of right hand side to left on eq (i):\n",
    "\n",
    "\n",
    "$$\n",
    "\\frac{P(class=+ve|X)}{P(class=-ve|X)}=e^{\\left(\\theta_{0}+\\theta^{T} x\\right)}\n",
    "$$\n",
    "\n",
    "$$\n",
    "\\frac{P(class=-ve|X)}{P(class=+ve|X)}=e^{-\\left(\\theta_{0}+\\theta^{T} x\\right)}\n",
    "$$\n",
    "\n",
    "$$\n",
    "\\frac{1-P(class=+ve|X)}{P(class=+ve|X)}=e^{-\\left(\\theta_{0}+\\theta^{T} x\\right)}\n",
    "$$\n",
    "\n",
    "$$\n",
    "\\frac{1}{P(class=+ve|X)}-1=e^{-\\left(\\theta_{0}+\\theta^{T} x\\right)}\n",
    "$$\n",
    "\n",
    "$$\n",
    "\\frac{1}{P(class=+ve|X)}=1+e^{-\\left(\\theta_{0}+\\theta^{T} x\\right)}\n",
    "$$\n",
    "\n",
    "\n",
    "$$\n",
    "    \\hspace{4cm}    {P(class=+ve|X)}=\\frac{1}{1+e^{-\\left(\\theta_{0}+\\theta^{T} x\\right)}} \\hspace{3cm}....eq(ii)\n",
    "$$\n",
    "\n",
    "\n",
    "\n",
    "<b> $$ H(\\theta_{0},\\theta)=\\frac{1}{1+e^{-\\left(\\theta_{0}+\\theta^{T} x\\right)}} $$</b>"
   ]
  },
  {
   "cell_type": "markdown",
   "metadata": {},
   "source": [
    "<b>Logistic Function or Sigmoid Function:</b>"
   ]
  },
  {
   "cell_type": "markdown",
   "metadata": {},
   "source": [
    "$$ f(x)= \\frac{1}{1 + e^{-x}} $$\n",
    "\n",
    "<h4><center>It's Value Always remain between 0 and 1.</center></h4>"
   ]
  },
  {
   "cell_type": "markdown",
   "metadata": {},
   "source": [
    "So from <b>eq(ii)</b>,It is clear that\n",
    "\n",
    "$$\n",
    "\\hspace{4cm}    {P(class=-ve|X)}=1-\\frac{1}{1+e^{-\\left(\\theta_{0}+\\theta^{T} x\\right)}} \\hspace{3cm}....eq(iii)\n",
    "$$\n"
   ]
  },
  {
   "cell_type": "markdown",
   "metadata": {},
   "source": [
    "<b>$$ 1-H(\\theta_{0},\\theta)=1-\\frac{1}{1+e^{-\\left(\\theta_{0}+\\theta^{T} x\\right)}} $$</b>"
   ]
  },
  {
   "cell_type": "markdown",
   "metadata": {},
   "source": [
    "for any single example ,having class =C ,we define Posterior Probability as :"
   ]
  },
  {
   "cell_type": "markdown",
   "metadata": {},
   "source": [
    "$$ P(class=C|X)=[\\frac{1}{1+e^{-(\\theta_{0}+\\theta^{T}X)}}^{C}] \\dot[1-\\frac{1}{1+e^{-(\\theta_{0}+\\theta^{T}X)}}]^{1-C}$$"
   ]
  },
  {
   "cell_type": "markdown",
   "metadata": {},
   "source": [
    "or $$ P(class=C|X)=[{H(\\theta_{0},\\theta)}]^{C} \\dot[1-{H(\\theta_{0},\\theta)}]^{1-C}$$"
   ]
  },
  {
   "cell_type": "markdown",
   "metadata": {},
   "source": [
    "for any $ i^{th} $ example from training data :"
   ]
  },
  {
   "cell_type": "markdown",
   "metadata": {},
   "source": [
    "$$\n",
    "    X^{i}=\\left[ \\begin{array}{l}{x^{i}_{1}} \\\\ {x^{i}_{2}} \\\\ {x^{i}_{3}} \\\\ {x^{i}_{4}} \\\\ {x^{i}_{5} \\\\ .\\\\.\\\\.\\\\.}\\end{array}\\right] \\hspace{8mm} features\\ of\\ i^{th} \\ row\n",
    "$$"
   ]
  },
  {
   "cell_type": "markdown",
   "metadata": {},
   "source": [
    "\n",
    "<b> $$ H_{i}(\\theta_{0},\\theta_{1})=\\frac{1}{1+e^{-\\left(\\theta_{0}+\\theta^{T} x\n",
    "^{i}\\right)}}                  ..................Eq(iv) $$"
   ]
  },
  {
   "cell_type": "markdown",
   "metadata": {},
   "source": [
    "or $$ P(class=C^{i}|X^{i})=[{H_{i}(\\theta_{0},\\theta_{1})}]^{C^{i}} \\dot[1-{H_{i}(\\theta_{0},\\theta_{1})}]^{1-C^{i}} \\hspace{5mm} PDF \\ for \\ single \\ i^{th}  \\ example$$"
   ]
  },
  {
   "cell_type": "markdown",
   "metadata": {},
   "source": [
    "<h2>Construct Likelihood  function of Posterior PDF:</h2>"
   ]
  },
  {
   "cell_type": "markdown",
   "metadata": {},
   "source": [
    "<h5>We will assume that each row of training data is Independent and Identity Distributed and we will construct Likelihood Function</h5>"
   ]
  },
  {
   "cell_type": "markdown",
   "metadata": {},
   "source": [
    "<p>Assume our training data has 7500 rows of training data and 5 columns(Except Labels Column)</p>"
   ]
  },
  {
   "cell_type": "markdown",
   "metadata": {},
   "source": [
    "$$ P(X=X^{1} \\cap X=X^{2} \\cap X=X^{3} \\cap X=X^{3} .........  \\cap X=X^{7500}) = Likelihood \\ Function$$\n"
   ]
  },
  {
   "cell_type": "markdown",
   "metadata": {},
   "source": [
    "$$= \\ [{H_{i}(\\theta_{0},\\theta)}]^{C^{i}} \\dot[1-{H_{i}(\\theta_{0},\\theta)}]^{1-C^{i}}........[{H_{7500}(\\theta_{0},\\theta)}]^{C^{7500}} \\dot[1-{H_{7500}(\\theta_{0},\\theta)}]^{1-C^{7500}}  $$"
   ]
  },
  {
   "cell_type": "markdown",
   "metadata": {},
   "source": [
    "$$\n",
    "=\\prod_{i=1}^{7500}[{H_{i}(\\theta_{0},\\theta)}]^{C^{i}} \\dot[1-{H_{i}(\\theta_{0},\\theta)}]^{1-C^{i}}\n",
    "$$"
   ]
  },
  {
   "cell_type": "markdown",
   "metadata": {},
   "source": [
    "$$ L(\\theta_{0},\\theta)=\\prod_{i=1}^{m}[{H_{i}(\\theta_{0},\\theta)}]^{C^{i}} \\dot[1-{H_{i}(\\theta_{0},\\theta)}]^{1-C^{i}}\n",
    "$$"
   ]
  },
  {
   "cell_type": "markdown",
   "metadata": {},
   "source": [
    "$$ Log_{e}(L(\\theta_{0},\\theta))=\\frac{1}{m}\\Sigma_{i=1}^{m}Log_{e}[{H_{i}(\\theta_{0},\\theta)}]^{C^{i}} \\dot[1-{H_{i}(\\theta_{0},\\theta)}]^{1-C^{i}}\n",
    "$$"
   ]
  },
  {
   "cell_type": "markdown",
   "metadata": {},
   "source": [
    "$$ -Log_{e}(L(\\theta_{0},\\theta))=-\\frac{1}{m}\\Sigma_{i=1}^{m}[({C^{i}})Log_{e}{H_{i}(\\theta_{0},\\theta)}] +[({1-C^{i}})Log_{e}(1-{H_{i}(\\theta_{0},\\theta)})] \\hspace{5mm} \n",
    "$$"
   ]
  },
  {
   "cell_type": "markdown",
   "metadata": {},
   "source": [
    "<h5>After Adding L2 Regularization Term,Cost Function will be :</h5>"
   ]
  },
  {
   "cell_type": "markdown",
   "metadata": {},
   "source": [
    "$$ -Log_{e}(L(\\theta_{0},\\theta))=-[\\frac{1}{m}\\Sigma_{i=1}^{m}[({C^{i}})Log_{e}{H_{i}(\\theta_{0},\\theta)}] +[({1-C^{i}})Log_{e}(1-{H_{i}(\\theta_{0},\\theta)})]] + \\frac{\\lambda}{2m}\\Sigma_{j=1}^{n}\\theta_{j}^{2} \\hspace{5mm} ....Eq(v)\n",
    "$$"
   ]
  },
  {
   "cell_type": "markdown",
   "metadata": {},
   "source": [
    "$ Using \\ Gradient \\ Descent \\ to \\ minimize\\ -Log_{e}(L(\\theta_{0},\\theta))$"
   ]
  },
  {
   "cell_type": "markdown",
   "metadata": {},
   "source": [
    "<b>For Gradient Descent:</b><br/>\n",
    "    \n",
    "    \n",
    "     \n",
    "     "
   ]
  },
  {
   "cell_type": "markdown",
   "metadata": {},
   "source": [
    "while(True):\n",
    "$$\\theta^{new}=\\theta^{old} - alpha * [ \\frac{\\partial}{\\partial\\theta}[Log_{e}(L(\\theta_{0},\\theta))]] $$\n",
    "$$if \\ abs((L(\\theta_{0}^{old},\\theta^{old})) -(L(\\theta_{0}^{new},\\theta^{new})) ) < \\ epsilion: \\\\break$$\n",
    "\n",
    "$$ \\theta^{old}=\\theta^{new} $$\n"
   ]
  },
  {
   "cell_type": "markdown",
   "metadata": {},
   "source": [
    "$$1. By \\ solving \\ \\frac{\\partial}{\\partial\\theta_{0}}[Log_{e}(L(\\theta_{0},\\theta))] ,we\\ get $$"
   ]
  },
  {
   "cell_type": "markdown",
   "metadata": {},
   "source": [
    "$$\n",
    "\\theta_{0} :=\\theta_{0}-\\alpha \\frac{1}{m} \\sum_{i=1}^{m}\\left(h_{\\theta}\\left(x^{(i)}\\right)-y^{(i)}\\right) x_{0}^{(i)}\n",
    "$$"
   ]
  },
  {
   "cell_type": "markdown",
   "metadata": {},
   "source": [
    "$$2. By \\ solving \\ \\frac{\\partial}{\\partial\\theta}[Log_{e}(L(\\theta_{0},\\theta))] ,we\\ get $$"
   ]
  },
  {
   "cell_type": "markdown",
   "metadata": {},
   "source": [
    "$$\n",
    "\\theta :=\\theta-\\alpha\\left[\\frac{1}{m} \\sum_{i=1}^{m}\\left(h_{\\theta}\\left(x^{(i)}\\right)-y^{(i)}\\right) x^{(i)}-\\frac{\\lambda}{m} \\theta\\right]\n",
    "$$\n",
    "\n",
    "$$ \\theta=[ \\theta_{1},\\theta_{2},\\theta_{3},...] $$"
   ]
  },
  {
   "cell_type": "markdown",
   "metadata": {},
   "source": [
    "$$\n",
    "\\begin{array}{l}{\\text {Hence ,In Gradient descent }} \\\\ {\\text { Repeat }\\{ } \\\\ {\\Rightarrow \\quad \\theta_{0} :=\\theta_{0}-\\alpha \\frac{1}{m} \\sum_{i=1}^{m}\\left(h_{\\theta}\\left(x^{(i)}\\right)-y^{(i)}\\right) x_{j}^{(i)}-\\frac{\\lambda}{m} \\theta_{j} ]} \\\\ {\\Rightarrow \\quad\\theta :=\\theta-\\alpha\\left[\\frac{1}{m} \\sum_{i=1}^{m}\\left(h_{\\theta}\\left(x^{(i)}\\right)-y^{(i)}\\right) x^{(i)}-\\frac{\\lambda}{m} \\theta\\right]}\\\\ \\hspace{20mm} \\theta=[ \\theta_{1},\\theta_{2},\\theta_{3},...]\\\\ {\\}}\\end{array}\n",
    "$$"
   ]
  },
  {
   "cell_type": "markdown",
   "metadata": {},
   "source": [
    "<h3>Coding For Logistic Regression:</h3>"
   ]
  },
  {
   "cell_type": "markdown",
   "metadata": {},
   "source": [
    "<h3>1. Importing Libraries</h3>"
   ]
  },
  {
   "cell_type": "code",
   "execution_count": 1,
   "metadata": {},
   "outputs": [],
   "source": [
    "###\n",
    "import numpy as np\n",
    "import pandas as pd\n",
    "import warnings\n",
    "import matplotlib.pyplot as plt\n",
    "%matplotlib inline\n",
    "\n",
    "###\n",
    "warnings.filterwarnings(\"ignore\");\n",
    "\n",
    "###\n",
    "from sklearn.metrics import confusion_matrix\n",
    "from sklearn.metrics import accuracy_score\n",
    "from sklearn.metrics import classification_report"
   ]
  },
  {
   "cell_type": "markdown",
   "metadata": {},
   "source": [
    "<h3>2. Importing Dataset</h3>"
   ]
  },
  {
   "cell_type": "markdown",
   "metadata": {},
   "source": [
    "<h6>Banknote authentication Data Set .</h6>\n",
    "<h6>Abstract: </h6><p>Data were extracted from images that were taken for the evaluation of an authentication procedure for banknotes.</p>\n",
    "<h6>Data Set Information:</h6>\n",
    "\n",
    "<p>Data were extracted from images that were taken from genuine and forged banknote-like specimens. For digitization, an industrial camera usually used for print inspection was used. The final images have 400x 400 pixels. Due to the object lens and distance to the investigated object gray-scale pictures with a resolution of about 660 dpi were gained. Wavelet Transform tool were used to extract features from images.</p>\n",
    "\n",
    "<h6>Attribute Information:</h6>\n",
    "\n",
    "<p>1. variance of Wavelet Transformed image (continuous) </p>\n",
    "<p>2. skewness of Wavelet Transformed image (continuous) </p>\n",
    "<p>3. curtosis of Wavelet Transformed image (continuous) </p>\n",
    "<p>4. entropy of image (continuous) </p>\n",
    "<p>5. class (integer)</p>\n",
    "\n",
    "<p>To View or Download the Dataset ,<a href=\"https://archive.ics.uci.edu/ml/datasets/banknote+authentication\">Click here</a></p>"
   ]
  },
  {
   "cell_type": "code",
   "execution_count": 2,
   "metadata": {},
   "outputs": [],
   "source": [
    "Data=pd.read_csv(\"biclass_lr.csv\",names=[\"variance\", \"skewness\", \"curtosis\", \"entropy\",\"Output\"])"
   ]
  },
  {
   "cell_type": "markdown",
   "metadata": {},
   "source": [
    "<h3>3. Shuffling of Data .</h3> "
   ]
  },
  {
   "cell_type": "code",
   "execution_count": 3,
   "metadata": {},
   "outputs": [],
   "source": [
    "import sklearn.utils\n",
    "Data = sklearn.utils.shuffle(Data)"
   ]
  },
  {
   "cell_type": "markdown",
   "metadata": {},
   "source": [
    "<h3>4. Analytics of Data</h3>"
   ]
  },
  {
   "cell_type": "code",
   "execution_count": 4,
   "metadata": {},
   "outputs": [
    {
     "data": {
      "text/plain": [
       "0    762\n",
       "1    610\n",
       "Name: Output, dtype: int64"
      ]
     },
     "execution_count": 4,
     "metadata": {},
     "output_type": "execute_result"
    }
   ],
   "source": [
    "Class_column=\"Output\"\n",
    "\n",
    "#Counting Total numbers of Record for each Class\n",
    "Data[Class_column].value_counts()"
   ]
  },
  {
   "cell_type": "markdown",
   "metadata": {},
   "source": [
    "<h3>5. Dividing Dataset into Training Data And Testing Data</h3>"
   ]
  },
  {
   "cell_type": "code",
   "execution_count": 5,
   "metadata": {},
   "outputs": [],
   "source": [
    "def train_test_split(data_set,split_ratio):\n",
    "    return (data_set.iloc[0:(int(len(data_set)*split_ratio)),:],data_set.iloc[(int(len(data_set)*split_ratio)):,:]) \n",
    "\n",
    "#Call to function train_test_split with dataset_name and ratio on which dataset will into training and testing data\n",
    "training_data,testing_data=train_test_split(Data,0.75)"
   ]
  },
  {
   "cell_type": "markdown",
   "metadata": {},
   "source": [
    "<h3>6. Pre-processing Training Data for Model</h3>"
   ]
  },
  {
   "cell_type": "code",
   "execution_count": 6,
   "metadata": {},
   "outputs": [],
   "source": [
    "###\n",
    "def filtered_training_data(training_data_part,class_label):\n",
    "    \n",
    "    #Take Class Column out from Training Data and Store it to Another variable.\n",
    "    #Converting class_Column into array\n",
    "    #Dropping class Column from Training Data\n",
    "    \n",
    "    return(np.array(training_data_part[class_label]),training_data_part.drop(labels=class_label,axis=1))\n",
    "\n",
    "#Call to Function\n",
    "class_of_training_data,filtered_training_data=filtered_training_data(training_data,Class_column)\n",
    "\n",
    "\n",
    "###\n",
    "def normalize(data_to_noramlize):\n",
    "    \n",
    "    #Converting Training Data from type Dataframe to Array for Matrix Operation\n",
    "    pure_training_data=np.array(data_to_noramlize)\n",
    "    \n",
    "    #Dividing Each Column of Training Data with respective Column Maximium Value to Normalize the Dataset\n",
    "    return(pure_training_data/np.max(pure_training_data,axis=0))\n",
    "\n",
    "#Call to Function\n",
    "normalized_Data=normalize(filtered_training_data)\n",
    "\n"
   ]
  },
  {
   "cell_type": "markdown",
   "metadata": {},
   "source": [
    "<h3>7. Preparation of Initial Parameter,Sigmoid function and calculation of derivative for gradient Descent </h3>"
   ]
  },
  {
   "cell_type": "code",
   "execution_count": 8,
   "metadata": {},
   "outputs": [],
   "source": [
    "def initial_parameter(normalized_Data_part):\n",
    "    \n",
    "    #Generating Initila HyperParameter Values\n",
    "    return(np.random.randn(1,1),np.random.randn(normalized_Data_part.shape[1],1))\n",
    "\n",
    "\n",
    "def sigmoid(normalized_Data_part,theta0_initial_val,theta_initial_val):\n",
    "    \n",
    "    #Multiplying Training Data with theta_initial and adding theta0_initial in all terms after mat. mul. operation.\n",
    "    power=theta0_initial_val+np.dot(normalized_Data_part,theta_initial_val)\n",
    "    \n",
    "    #Calculating eq (iii) for all training dataset\n",
    "    return(1/(1+ np.exp(-power)))\n",
    "\n",
    "\n",
    "def deri_wrt_theta0(temp,normalized_Data_part):\n",
    "    \n",
    "    #Derivative of Cost Function w.r.t to theta0 to Upgrade theta0 during Minimization\n",
    "    return((np.sum(temp))/normalized_Data_part.shape[0])\n",
    "\n",
    "\n",
    "def deri_wrt_theta(temp,normalized_Data_part,lam,theta_initial):\n",
    "    \n",
    "    \n",
    "    ##Derivative of Cost Function w.r.t to thetas(except theta0) to Upgrade thetas during Minimization - L2 Regularization \n",
    "    #term on upgrading thetas\n",
    "    return(((np.matmul((normalized_Data_part.T),temp))/normalized_Data_part.shape[0]) -\n",
    "           ((lam/normalized_Data_part.shape[0])*theta_initial))\n",
    "\n",
    "\n",
    "def cost_function(class_of_training_data,H_theta0_theta_A,theta_A,normalized_Data_part,lam):\n",
    "    a=np.matmul((class_of_training_data.T),np.log(H_theta0_theta_A))\n",
    "    b=np.matmul(((1-class_of_training_data).T),np.log(1-H_theta0_theta_A))\n",
    "    c=(a+b)/normalized_Data_part.shape[0]\n",
    "    d=(lam*np.sum(np.square(theta_A)))/2*normalized_Data_part.shape[0]\n",
    "    return(-c+d)\n",
    "    \n",
    "##just For Removing Ambiguity ,size is change from (n,) to (n,1)\n",
    "##No difference in overall shape and Data \n",
    "class_of_training_data=np.reshape(class_of_training_data,(training_data.shape[0],1))"
   ]
  },
  {
   "cell_type": "markdown",
   "metadata": {},
   "source": [
    "<h3>8. Gradient Descent to minimize Cost Function </h3>"
   ]
  },
  {
   "cell_type": "code",
   "execution_count": 17,
   "metadata": {},
   "outputs": [],
   "source": [
    "def gradient_descent(alpha,epsilon,normalized_Data,class_of_training_data,lam):\n",
    "    #parameter's\n",
    "    #Alpha(Learning Rate)\n",
    "    #Epsilon : to stop gradient descent at proper minimized state\n",
    "    #lam(lambda) : For L2 Regularisation\n",
    "    \n",
    "    \n",
    "    #Call to Function\n",
    "    theta0_initial,theta_initial=initial_parameter(normalized_Data)\n",
    "    \n",
    "    i=0\n",
    "    iterations=[]\n",
    "    neg_log_like_loss = []\n",
    "    \n",
    "    while(True):\n",
    "        \n",
    "        #Call to Function\n",
    "        #Equation iv at theta0_initial ,theta_initial\n",
    "        H_theta0_theta_i=sigmoid(normalized_Data,theta0_initial,theta_initial)\n",
    "        \n",
    "    \n",
    "        #Calculating Difference between calculated H_theta0_theta_i and given class_of_training_data\n",
    "        Tem =H_theta0_theta_i-class_of_training_data\n",
    "        \n",
    "        #Call to Functions\n",
    "        Derivative_theta0 =deri_wrt_theta0(Tem,normalized_Data)\n",
    "        Derivative_thetas =deri_wrt_theta(Tem,normalized_Data,lam,theta_initial)\n",
    "        \n",
    "        \n",
    "        \n",
    "        #Equation No v at theta0_initial ,theta_initial with L2 Regularization\n",
    "        neg_log_like_initial= cost_function(class_of_training_data,H_theta0_theta_i,theta_initial,normalized_Data,lam)\n",
    "        \n",
    "        \n",
    "        #Updating the hyperparameters value\n",
    "        theta0_final = theta0_initial - alpha*Derivative_theta0\n",
    "        theta_final = theta_initial - alpha*Derivative_thetas\n",
    "        \n",
    "    \n",
    "        ##Equation iv at theta0_final,theta_final\n",
    "        H_theta0_theta_f = sigmoid(normalized_Data,theta0_final,theta_final)\n",
    "    \n",
    "        #Equation No v at theta0_final,theta_final with L2 Regularization\n",
    "        neg_log_like_final= cost_function(class_of_training_data,H_theta0_theta_f,theta_final,normalized_Data,lam)\n",
    "        \n",
    "        if abs(neg_log_like_initial - neg_log_like_final) < epsilon:\n",
    "            return(theta0_final,theta_final,iterations,neg_log_like_loss)\n",
    "            break\n",
    "            \n",
    "        theta0_initial = theta0_final\n",
    "        theta_initial = theta_final\n",
    "    \n",
    "        i += 1\n",
    "    \n",
    "        iterations.append(i)\n",
    "        neg_log_like_loss.append(neg_log_like_initial)"
   ]
  },
  {
   "cell_type": "code",
   "execution_count": 18,
   "metadata": {},
   "outputs": [],
   "source": [
    "#call to gradient_Descent Function\n",
    "theta0_final,theta_final,iterations,neg_log_like_loss=gradient_descent(0.01,0.0000005\n",
    "                                                                       ,normalized_Data,class_of_training_data,0.0000001)"
   ]
  },
  {
   "cell_type": "code",
   "execution_count": 13,
   "metadata": {},
   "outputs": [
    {
     "data": {
      "text/plain": [
       "Text(0.5,1,'Minimization Curve of Cost Function in Logistic Regression')"
      ]
     },
     "execution_count": 13,
     "metadata": {},
     "output_type": "execute_result"
    },
    {
     "data": {
      "image/png": "[encoded data removed]",
      "text/plain": [
       "<Figure size 432x288 with 1 Axes>"
      ]
     },
     "metadata": {},
     "output_type": "display_data"
    }
   ],
   "source": [
    "import matplotlib.pyplot as plt\n",
    "plt.scatter(iterations,neg_log_like_loss,data=\"Logistic Regression\")\n",
    "plt.title('Minimization Curve of Cost Function in Logistic Regression')"
   ]
  },
  {
   "cell_type": "markdown",
   "metadata": {},
   "source": [
    "<h3>9.Testing of Model WIth Testing Data</h3>"
   ]
  },
  {
   "cell_type": "code",
   "execution_count": 14,
   "metadata": {},
   "outputs": [],
   "source": [
    "#pre-processing of testing data\n",
    "\n",
    "def testing(testing_data,Class_column):\n",
    "    \n",
    "    #Take Class Column out from Testing Data and Store it to Another variable.\n",
    "    #Converting class_Column into List(for Easy Implementation )\n",
    "    #Dropping class Column from Testing Data\n",
    "    #Normalizing the testing data\n",
    "    \n",
    "    class_of_testing_data=list(testing_data[Class_column])\n",
    "    filtered_testing_data=testing_data.drop(labels=Class_column,axis=1)\n",
    "    normalized_testing_Data=normalize(filtered_testing_data)\n",
    "    \n",
    "    return(class_of_testing_data,normalized_testing_Data)\n",
    "\n",
    "#Call to Function\n",
    "class_of_testing_data,normalized_testing_Data=testing(testing_data,Class_column)"
   ]
  },
  {
   "cell_type": "markdown",
   "metadata": {},
   "source": [
    "<h3>10. Checking Accuracy and other Efficiency Measuring Parameter of Model Performance.</h3>"
   ]
  },
  {
   "cell_type": "code",
   "execution_count": 15,
   "metadata": {},
   "outputs": [
    {
     "name": "stdout",
     "output_type": "stream",
     "text": [
      "Accuracy Of Model on Testing Data :  0.9737609329446064\n",
      "Confusion Matrix :\n",
      "\n",
      " [[181   5]\n",
      " [  4 153]]\n",
      "\n",
      "Completer Classification Report on Testing Data :\n",
      "\n",
      "              precision    recall  f1-score   support\n",
      "\n",
      "          0       0.98      0.97      0.98       186\n",
      "          1       0.97      0.97      0.97       157\n",
      "\n",
      "avg / total       0.97      0.97      0.97       343\n",
      "\n"
     ]
    }
   ],
   "source": [
    "#Prediction of class \n",
    "def accuracy(normalized_testing_Data,theta0_final,theta_final):\n",
    "    output_list=[]\n",
    "    \n",
    "    #calculating sigmoid function value for each data row in testing data\n",
    "    sigmoid_function_value=sigmoid(normalized_testing_Data,theta0_final,theta_final)\n",
    "     \n",
    "    for i in sigmoid_function_value:\n",
    "        if i>=0.50:\n",
    "            output_list.append(1)\n",
    "        else:\n",
    "            output_list.append(0)\n",
    "    print(\"Accuracy Of Model on Testing Data : \",accuracy_score(class_of_testing_data,output_list))\n",
    "    print(\"Confusion Matrix :\\n\\n\",confusion_matrix(class_of_testing_data,output_list))\n",
    "   \n",
    "    print(\"\\nCompleter Classification Report on Testing Data :\\n\\n\",classification_report(class_of_testing_data,output_list))\n",
    "    \n",
    "    \n",
    "\n",
    "    \n",
    "#Call to Accuracy function to check Model Accuracy and others    \n",
    "accuracy(normalized_testing_Data,theta0_final,theta_final)\n",
    "    \n",
    "    \n",
    "    \n",
    "\n",
    "    \n"
   ]
  },
  {
   "cell_type": "markdown",
   "metadata": {},
   "source": [
    "<h4>Hence ,Our Model is Able to correclty Predict Class for unseen Data about approx. 96% times.</h4>"
   ]
  },
  {
   "cell_type": "code",
   "execution_count": null,
   "metadata": {},
   "outputs": [],
   "source": []
  }
 ],
 "metadata": {
  "kernelspec": {
   "display_name": "Python 3",
   "language": "python",
   "name": "python3"
  },
  "language_info": {
   "codemirror_mode": {
    "name": "ipython",
    "version": 3
   },
   "file_extension": ".py",
   "mimetype": "text/x-python",
   "name": "python",
   "nbconvert_exporter": "python",
   "pygments_lexer": "ipython3",
   "version": "3.6.5"
  }
 },
 "nbformat": 4,
 "nbformat_minor": 2
}
